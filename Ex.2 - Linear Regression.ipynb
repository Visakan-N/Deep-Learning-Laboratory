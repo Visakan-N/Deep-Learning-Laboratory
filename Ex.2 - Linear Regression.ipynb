{
 "cells": [
  {
   "cell_type": "markdown",
   "id": "bfebd0dd",
   "metadata": {},
   "source": [
    "# Linear Regression:"
   ]
  },
  {
   "cell_type": "markdown",
   "id": "208c4cb4",
   "metadata": {},
   "source": [
    "It is used to predict the value of one variable based on the value of another variable. They are both lineraly related y = mx + c."
   ]
  },
  {
   "cell_type": "markdown",
   "id": "7175b3a2",
   "metadata": {},
   "source": [
    "### Importing the required packages:"
   ]
  },
  {
   "cell_type": "code",
   "execution_count": 1,
   "id": "615369e0",
   "metadata": {},
   "outputs": [],
   "source": [
    "import numpy as np\n",
    "import tensorflow as tf\n",
    "import matplotlib.pyplot as plt\n",
    "import pandas as pd"
   ]
  },
  {
   "cell_type": "markdown",
   "id": "f3bcc35b",
   "metadata": {},
   "source": [
    "### Generating the linear dataset:"
   ]
  },
  {
   "cell_type": "code",
   "execution_count": 2,
   "id": "642ced9a",
   "metadata": {},
   "outputs": [],
   "source": [
    "np.random.seed(100)"
   ]
  },
  {
   "cell_type": "code",
   "execution_count": 3,
   "id": "ab83ea9a",
   "metadata": {},
   "outputs": [],
   "source": [
    "x_data = np.linspace(0, 100, 100)\n",
    "y_data = np.linspace(0, 100, 100)\n",
    "\n",
    "x_data += np.random.uniform(-5, 5, 100)\n",
    "y_data += np.random.uniform(-5, 5, 100)"
   ]
  },
  {
   "cell_type": "code",
   "execution_count": 4,
   "id": "fafcc7b2",
   "metadata": {},
   "outputs": [
    {
     "data": {
      "text/plain": [
       "<matplotlib.collections.PathCollection at 0x170b98be130>"
      ]
     },
     "execution_count": 4,
     "metadata": {},
     "output_type": "execute_result"
    },
    {
     "data": {
      "image/png": "[encoded data removed]",
      "text/plain": [
       "<Figure size 640x480 with 1 Axes>"
      ]
     },
     "metadata": {},
     "output_type": "display_data"
    }
   ],
   "source": [
    "plt.scatter(x_data, y_data)"
   ]
  },
  {
   "cell_type": "markdown",
   "id": "1f095b31",
   "metadata": {},
   "source": [
    "### Creating the model:\n",
    "Here we are implementing the linear regression as a neural network with just a single hidden unit.\n",
    "\n",
    "The loss function we are using here is 'mean_squared_error' we can easily replace this with;\n",
    "* 'mean_absolute_error'\n",
    "* 'binary_crossentropy'\n",
    "\n",
    "The optimizer function we are using here is Adamax, we can easily replace this with;\n",
    "* SGD - steepest gradient descent\n",
    "* Adam"
   ]
  },
  {
   "cell_type": "code",
   "execution_count": 5,
   "id": "c33d942d",
   "metadata": {},
   "outputs": [],
   "source": [
    "model = tf.keras.Sequential()\n",
    "model.add(tf.keras.layers.Dense(1, input_shape=[1])) # adding a single unit\n",
    "model.compile(loss='mean_squared_error',\n",
    "              optimizer=tf.keras.optimizers.Adamax(0.01))"
   ]
  },
  {
   "cell_type": "code",
   "execution_count": 29,
   "id": "b1f60ca1",
   "metadata": {},
   "outputs": [
    {
     "name": "stdout",
     "output_type": "stream",
     "text": [
      "Model: \"sequential_6\"\n",
      "_________________________________________________________________\n",
      " Layer (type)                Output Shape              Param #   \n",
      "=================================================================\n",
      " dense_6 (Dense)             (None, 1)                 2         \n",
      "                                                                 \n",
      "=================================================================\n",
      "Total params: 2\n",
      "Trainable params: 2\n",
      "Non-trainable params: 0\n",
      "_________________________________________________________________\n"
     ]
    }
   ],
   "source": [
    "model.summary()"
   ]
  },
  {
   "cell_type": "markdown",
   "id": "1f51cd83",
   "metadata": {},
   "source": [
    "### Training the model:"
   ]
  },
  {
   "cell_type": "code",
   "execution_count": 6,
   "id": "ef32a1aa",
   "metadata": {},
   "outputs": [
    {
     "name": "stdout",
     "output_type": "stream",
     "text": [
      "Epoch 1/50\n",
      "4/4 [==============================] - 0s 2ms/step - loss: 737.4058\n",
      "Epoch 2/50\n",
      "4/4 [==============================] - 0s 3ms/step - loss: 631.5510\n",
      "Epoch 3/50\n",
      "4/4 [==============================] - 0s 4ms/step - loss: 548.3022\n",
      "Epoch 4/50\n",
      "4/4 [==============================] - 0s 3ms/step - loss: 477.8589\n",
      "Epoch 5/50\n",
      "4/4 [==============================] - 0s 4ms/step - loss: 411.9657\n",
      "Epoch 6/50\n",
      "4/4 [==============================] - 0s 3ms/step - loss: 356.4787\n",
      "Epoch 7/50\n",
      "4/4 [==============================] - 0s 3ms/step - loss: 308.3455\n",
      "Epoch 8/50\n",
      "4/4 [==============================] - 0s 3ms/step - loss: 262.0309\n",
      "Epoch 9/50\n",
      "4/4 [==============================] - 0s 3ms/step - loss: 222.4920\n",
      "Epoch 10/50\n",
      "4/4 [==============================] - 0s 4ms/step - loss: 190.0101\n",
      "Epoch 11/50\n",
      "4/4 [==============================] - 0s 3ms/step - loss: 160.9603\n",
      "Epoch 12/50\n",
      "4/4 [==============================] - 0s 4ms/step - loss: 138.1629\n",
      "Epoch 13/50\n",
      "4/4 [==============================] - 0s 4ms/step - loss: 118.2039\n",
      "Epoch 14/50\n",
      "4/4 [==============================] - 0s 3ms/step - loss: 101.9925\n",
      "Epoch 15/50\n",
      "4/4 [==============================] - 0s 2ms/step - loss: 88.2333\n",
      "Epoch 16/50\n",
      "4/4 [==============================] - 0s 3ms/step - loss: 76.4476\n",
      "Epoch 17/50\n",
      "4/4 [==============================] - 0s 4ms/step - loss: 67.4168\n",
      "Epoch 18/50\n",
      "4/4 [==============================] - 0s 4ms/step - loss: 59.1960\n",
      "Epoch 19/50\n",
      "4/4 [==============================] - 0s 4ms/step - loss: 52.3685\n",
      "Epoch 20/50\n",
      "4/4 [==============================] - 0s 3ms/step - loss: 46.8316\n",
      "Epoch 21/50\n",
      "4/4 [==============================] - 0s 4ms/step - loss: 42.4097\n",
      "Epoch 22/50\n",
      "4/4 [==============================] - 0s 4ms/step - loss: 38.4088\n",
      "Epoch 23/50\n",
      "4/4 [==============================] - 0s 4ms/step - loss: 34.9097\n",
      "Epoch 24/50\n",
      "4/4 [==============================] - 0s 5ms/step - loss: 32.0502\n",
      "Epoch 25/50\n",
      "4/4 [==============================] - 0s 4ms/step - loss: 29.6297\n",
      "Epoch 26/50\n",
      "4/4 [==============================] - 0s 4ms/step - loss: 27.6587\n",
      "Epoch 27/50\n",
      "4/4 [==============================] - 0s 3ms/step - loss: 26.0269\n",
      "Epoch 28/50\n",
      "4/4 [==============================] - 0s 5ms/step - loss: 24.7059\n",
      "Epoch 29/50\n",
      "4/4 [==============================] - 0s 5ms/step - loss: 23.5410\n",
      "Epoch 30/50\n",
      "4/4 [==============================] - 0s 4ms/step - loss: 22.5395\n",
      "Epoch 31/50\n",
      "4/4 [==============================] - 0s 4ms/step - loss: 21.7096\n",
      "Epoch 32/50\n",
      "4/4 [==============================] - 0s 3ms/step - loss: 21.0103\n",
      "Epoch 33/50\n",
      "4/4 [==============================] - 0s 5ms/step - loss: 20.3705\n",
      "Epoch 34/50\n",
      "4/4 [==============================] - 0s 3ms/step - loss: 19.9111\n",
      "Epoch 35/50\n",
      "4/4 [==============================] - 0s 6ms/step - loss: 19.4703\n",
      "Epoch 36/50\n",
      "4/4 [==============================] - 0s 5ms/step - loss: 19.1668\n",
      "Epoch 37/50\n",
      "4/4 [==============================] - 0s 5ms/step - loss: 18.8487\n",
      "Epoch 38/50\n",
      "4/4 [==============================] - 0s 6ms/step - loss: 18.6020\n",
      "Epoch 39/50\n",
      "4/4 [==============================] - 0s 3ms/step - loss: 18.4024\n",
      "Epoch 40/50\n",
      "4/4 [==============================] - 0s 4ms/step - loss: 18.2419\n",
      "Epoch 41/50\n",
      "4/4 [==============================] - 0s 5ms/step - loss: 18.1050\n",
      "Epoch 42/50\n",
      "4/4 [==============================] - 0s 6ms/step - loss: 18.0049\n",
      "Epoch 43/50\n",
      "4/4 [==============================] - 0s 3ms/step - loss: 17.8900\n",
      "Epoch 44/50\n",
      "4/4 [==============================] - 0s 3ms/step - loss: 17.8037\n",
      "Epoch 45/50\n",
      "4/4 [==============================] - 0s 4ms/step - loss: 17.7269\n",
      "Epoch 46/50\n",
      "4/4 [==============================] - 0s 3ms/step - loss: 17.6748\n",
      "Epoch 47/50\n",
      "4/4 [==============================] - 0s 5ms/step - loss: 17.6196\n",
      "Epoch 48/50\n",
      "4/4 [==============================] - 0s 4ms/step - loss: 17.5981\n",
      "Epoch 49/50\n",
      "4/4 [==============================] - 0s 4ms/step - loss: 17.5788\n",
      "Epoch 50/50\n",
      "4/4 [==============================] - 0s 4ms/step - loss: 17.5663\n"
     ]
    }
   ],
   "source": [
    "history = model.fit(x_data, y_data, epochs=50)"
   ]
  },
  {
   "cell_type": "code",
   "execution_count": 53,
   "id": "5b56ad08",
   "metadata": {},
   "outputs": [
    {
     "name": "stdout",
     "output_type": "stream",
     "text": [
      "4/4 [==============================] - 0s 2ms/step\n"
     ]
    }
   ],
   "source": [
    "y_data_est = model.predict(x_data)"
   ]
  },
  {
   "cell_type": "code",
   "execution_count": 54,
   "id": "e7fcf622",
   "metadata": {},
   "outputs": [
    {
     "data": {
      "text/plain": [
       "[<matplotlib.lines.Line2D at 0x1e38ba0aeb0>]"
      ]
     },
     "execution_count": 54,
     "metadata": {},
     "output_type": "execute_result"
    },
    {
     "data": {
      "image/png": "[encoded data removed]",
      "text/plain": [
       "<Figure size 640x480 with 1 Axes>"
      ]
     },
     "metadata": {},
     "output_type": "display_data"
    }
   ],
   "source": [
    "plt.scatter(x_data, y_data)\n",
    "plt.plot(x_data, y_data_est, color='r')"
   ]
  }
 ],
 "metadata": {
  "kernelspec": {
   "display_name": "Python 3 (ipykernel)",
   "language": "python",
   "name": "python3"
  },
  "language_info": {
   "codemirror_mode": {
    "name": "ipython",
    "version": 3
   },
   "file_extension": ".py",
   "mimetype": "text/x-python",
   "name": "python",
   "nbconvert_exporter": "python",
   "pygments_lexer": "ipython3",
   "version": "3.9.13"
  }
 },
 "nbformat": 4,
 "nbformat_minor": 5
}
