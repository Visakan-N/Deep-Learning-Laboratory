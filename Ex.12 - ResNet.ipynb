{
 "cells": [
  {
   "cell_type": "markdown",
   "id": "bc3a7f6f",
   "metadata": {
    "id": "bc3a7f6f"
   },
   "source": [
    "# ResNet:"
   ]
  },
  {
   "cell_type": "markdown",
   "id": "0fe331c1",
   "metadata": {
    "id": "0fe331c1"
   },
   "source": [
    "### Import the required packages:"
   ]
  },
  {
   "cell_type": "code",
   "execution_count": 1,
   "id": "1b4504ed",
   "metadata": {
    "id": "1b4504ed"
   },
   "outputs": [],
   "source": [
    "import tensorflow as tf\n",
    "import matplotlib.pyplot as plt\n",
    "from tensorflow.keras import datasets, layers, models, losses, Model"
   ]
  },
  {
   "cell_type": "markdown",
   "id": "8364b54d",
   "metadata": {
    "id": "8364b54d"
   },
   "source": [
    "### Load the dataset:"
   ]
  },
  {
   "cell_type": "code",
   "execution_count": 2,
   "id": "952a3cbf",
   "metadata": {
    "colab": {
     "base_uri": "https://localhost:8080/"
    },
    "id": "952a3cbf",
    "outputId": "3c0a5273-9ada-4f10-a0f5-a20bd715df6c"
   },
   "outputs": [
    {
     "name": "stdout",
     "output_type": "stream",
     "text": [
      "Downloading data from https://storage.googleapis.com/tensorflow/tf-keras-datasets/mnist.npz\n",
      "11490434/11490434 [==============================] - 0s 0us/step\n"
     ]
    }
   ],
   "source": [
    "(x_train, y_train), (x_test, y_test)=tf.keras.datasets.mnist.load_data()"
   ]
  },
  {
   "cell_type": "markdown",
   "id": "30ccee4a",
   "metadata": {
    "id": "30ccee4a"
   },
   "source": [
    "### Add padding to the images:"
   ]
  },
  {
   "cell_type": "code",
   "execution_count": 3,
   "id": "7cd77479",
   "metadata": {
    "id": "7cd77479"
   },
   "outputs": [],
   "source": [
    "x_train = tf.pad(x_train, [[0, 0], [2,2], [2,2]])/255\n",
    "x_test = tf.pad(x_test, [[0, 0], [2,2], [2,2]])/255"
   ]
  },
  {
   "cell_type": "markdown",
   "id": "1145db92",
   "metadata": {
    "id": "1145db92"
   },
   "source": [
    "### Expand the dimensions of the images:"
   ]
  },
  {
   "cell_type": "code",
   "execution_count": 4,
   "id": "ffc41497",
   "metadata": {
    "id": "ffc41497"
   },
   "outputs": [],
   "source": [
    "x_train = tf.expand_dims(x_train, axis=3, name=None)\n",
    "x_test = tf.expand_dims(x_test, axis=3, name=None)"
   ]
  },
  {
   "cell_type": "markdown",
   "id": "f883e7ae",
   "metadata": {
    "id": "f883e7ae"
   },
   "source": [
    "### Repeating the elements:"
   ]
  },
  {
   "cell_type": "code",
   "execution_count": 5,
   "id": "b4a5a243",
   "metadata": {
    "id": "b4a5a243"
   },
   "outputs": [],
   "source": [
    "x_train = tf.repeat(x_train, 3, axis=3)\n",
    "x_test = tf.repeat(x_test, 3, axis=3)"
   ]
  },
  {
   "cell_type": "markdown",
   "id": "43d0c9ec",
   "metadata": {
    "id": "43d0c9ec"
   },
   "source": [
    "### Splitting data for the validation set:"
   ]
  },
  {
   "cell_type": "code",
   "execution_count": 6,
   "id": "58fde2a3",
   "metadata": {
    "id": "58fde2a3"
   },
   "outputs": [],
   "source": [
    "x_val = x_train[-2000:,:,:,:]\n",
    "y_val = y_train[-2000:]\n",
    "x_train = x_train[:-2000,:,:,:]\n",
    "y_train = y_train[:-2000]"
   ]
  },
  {
   "cell_type": "markdown",
   "id": "9b80b968",
   "metadata": {
    "id": "9b80b968"
   },
   "source": [
    "### Creating the model:"
   ]
  },
  {
   "cell_type": "code",
   "execution_count": 7,
   "id": "a7686ee5",
   "metadata": {
    "colab": {
     "base_uri": "https://localhost:8080/"
    },
    "id": "a7686ee5",
    "outputId": "0b0eb187-84f3-430c-ac6b-618198095729"
   },
   "outputs": [
    {
     "name": "stdout",
     "output_type": "stream",
     "text": [
      "Downloading data from https://storage.googleapis.com/tensorflow/keras-applications/resnet/resnet152_weights_tf_dim_ordering_tf_kernels_notop.h5\n",
      "234698864/234698864 [==============================] - 1s 0us/step\n"
     ]
    }
   ],
   "source": [
    "base_model = tf.keras.applications.ResNet152(weights = 'imagenet',\n",
    "                                             include_top = False,\n",
    "                                             input_shape = (32,32,3))\n",
    "for layer in base_model.layers:\n",
    "    layer.trainable = False\n",
    "x = layers.Flatten()(base_model.output)\n",
    "x = layers.Dense(1000, activation='relu')(x)\n",
    "predictions = layers.Dense(10, activation = 'softmax')(x)\n",
    "head_model = Model(inputs = base_model.input, outputs = predictions)"
   ]
  },
  {
   "cell_type": "code",
   "execution_count": 8,
   "id": "b92f6edc",
   "metadata": {
    "id": "b92f6edc"
   },
   "outputs": [],
   "source": [
    "head_model.compile(optimizer='adam', metrics=['accuracy'],\n",
    " loss=losses.sparse_categorical_crossentropy)"
   ]
  },
  {
   "cell_type": "markdown",
   "id": "32c57cf3",
   "metadata": {
    "id": "32c57cf3"
   },
   "source": [
    "### Training the model:"
   ]
  },
  {
   "cell_type": "code",
   "execution_count": 9,
   "id": "588015bb",
   "metadata": {
    "colab": {
     "base_uri": "https://localhost:8080/"
    },
    "id": "588015bb",
    "outputId": "3ed7311c-62cb-471f-f937-e96a9f15016d"
   },
   "outputs": [
    {
     "name": "stdout",
     "output_type": "stream",
     "text": [
      "Epoch 1/5\n",
      "907/907 [==============================] - 416s 451ms/step - loss: 0.9014 - accuracy: 0.7024 - val_loss: 0.4852 - val_accuracy: 0.8645\n",
      "Epoch 2/5\n",
      "907/907 [==============================] - 411s 453ms/step - loss: 0.5867 - accuracy: 0.8089 - val_loss: 0.4280 - val_accuracy: 0.8735\n",
      "Epoch 3/5\n",
      "907/907 [==============================] - 411s 453ms/step - loss: 0.5102 - accuracy: 0.8346 - val_loss: 0.3861 - val_accuracy: 0.8850\n",
      "Epoch 4/5\n",
      "907/907 [==============================] - 411s 453ms/step - loss: 0.4539 - accuracy: 0.8517 - val_loss: 0.2886 - val_accuracy: 0.9205\n",
      "Epoch 5/5\n",
      "907/907 [==============================] - 412s 454ms/step - loss: 0.4154 - accuracy: 0.8631 - val_loss: 0.2652 - val_accuracy: 0.9365\n"
     ]
    }
   ],
   "source": [
    "history = head_model.fit(x_train, y_train,\n",
    "batch_size=64,\n",
    "epochs=5,\n",
    "validation_data=(x_val, y_val))"
   ]
  },
  {
   "cell_type": "markdown",
   "id": "9b305af5",
   "metadata": {
    "id": "9b305af5"
   },
   "source": [
    "### Plotting accuracy and losses:"
   ]
  },
  {
   "cell_type": "code",
   "execution_count": 10,
   "id": "e051b8e2",
   "metadata": {
    "colab": {
     "base_uri": "https://localhost:8080/",
     "height": 910
    },
    "id": "e051b8e2",
    "outputId": "54634dfa-f2a3-4484-d8e4-c6aa019bdccf"
   },
   "outputs": [
    {
     "data": {
      "text/plain": [
       "<matplotlib.legend.Legend at 0x7f53ec275f70>"
      ]
     },
     "execution_count": 10,
     "metadata": {},
     "output_type": "execute_result"
    },
    {
     "data": {
      "image/png": "[encoded data removed]",
      "text/plain": [
       "<Figure size 1080x1080 with 2 Axes>"
      ]
     },
     "metadata": {
      "needs_background": "light"
     },
     "output_type": "display_data"
    }
   ],
   "source": [
    "fig, axs = plt.subplots(2, 1, figsize=(15,15))\n",
    "\n",
    "axs[0].plot(history.history['loss'])\n",
    "axs[0].plot(history.history['val_loss'])\n",
    "axs[0].title.set_text('Training Loss vs Validation Loss')\n",
    "axs[0].set_xlabel('Epochs')\n",
    "axs[0].set_ylabel('Loss')\n",
    "axs[0].legend(['Train','Val'])\n",
    "\n",
    "axs[1].plot(history.history['accuracy'])\n",
    "axs[1].plot(history.history['val_accuracy'])\n",
    "axs[1].title.set_text('Training Accuracy vs Validation Accuracy')\n",
    "axs[1].set_xlabel('Epochs')\n",
    "axs[1].set_ylabel('Accuracy')\n",
    "axs[1].legend(['Train', 'Val'])"
   ]
  },
  {
   "cell_type": "markdown",
   "id": "dbc71f26",
   "metadata": {
    "id": "dbc71f26"
   },
   "source": [
    "### Printing the metrics:"
   ]
  },
  {
   "cell_type": "code",
   "execution_count": 11,
   "id": "cb8eddbb",
   "metadata": {
    "colab": {
     "base_uri": "https://localhost:8080/"
    },
    "id": "cb8eddbb",
    "outputId": "38ec8a62-f7e8-4a0a-b270-c423a9838d8c"
   },
   "outputs": [
    {
     "name": "stdout",
     "output_type": "stream",
     "text": [
      "313/313 [==============================] - 77s 246ms/step - loss: 0.3601 - accuracy: 0.8786\n"
     ]
    },
    {
     "data": {
      "text/plain": [
       "[0.3600934147834778, 0.878600001335144]"
      ]
     },
     "execution_count": 11,
     "metadata": {},
     "output_type": "execute_result"
    }
   ],
   "source": [
    "head_model.evaluate(x_test, y_test)"
   ]
  }
 ],
 "metadata": {
  "accelerator": "GPU",
  "colab": {
   "provenance": []
  },
  "gpuClass": "standard",
  "kernelspec": {
   "display_name": "Python 3 (ipykernel)",
   "language": "python",
   "name": "python3"
  },
  "language_info": {
   "codemirror_mode": {
    "name": "ipython",
    "version": 3
   },
   "file_extension": ".py",
   "mimetype": "text/x-python",
   "name": "python",
   "nbconvert_exporter": "python",
   "pygments_lexer": "ipython3",
   "version": "3.9.13"
  }
 },
 "nbformat": 4,
 "nbformat_minor": 5
}
